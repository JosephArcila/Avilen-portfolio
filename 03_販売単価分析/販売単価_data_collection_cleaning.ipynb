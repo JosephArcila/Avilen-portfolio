{
  "nbformat": 4,
  "nbformat_minor": 0,
  "metadata": {
    "colab": {
      "provenance": [],
      "toc_visible": true
    },
    "kernelspec": {
      "name": "python3",
      "display_name": "Python 3"
    },
    "language_info": {
      "name": "python"
    }
  },
  "cells": [
    {
      "cell_type": "markdown",
      "source": [
        "# Sales Price Analysis Data Integration\n",
        "**Author:** Joseph Arcila  \n",
        "**Date:** April 2024  \n",
        "**Project:** AVILEN Client Data Analysis\n",
        "\n",
        "## Project Overview\n",
        "This notebook processes multiple economic indicators to analyze factors affecting sales prices. It integrates data from various sources into a single, analysis-ready dataset.\n",
        "\n",
        "### Input Data Requirements\n",
        "Required files:\n",
        "1. Corporate Price Index (CSV)\n",
        "   - Import price index focusing on food/agricultural products\n",
        "   - Monthly time series data\n",
        "\n",
        "2. Wage Data (CSV)\n",
        "   - Nominal and real wage indices\n",
        "   - Monthly observations\n",
        "\n",
        "3. Consumer Price Index Data (Excel)\n",
        "   - Complex sheet structure\n",
        "   - Multiple category breakdowns\n",
        "\n",
        "4. Interest Rate Data (CSV)\n",
        "   - Japanese interest rates\n",
        "   - Monthly observations\n",
        "\n",
        "5. GDP Data (CSV)\n",
        "   - Real GDP expenditure data\n",
        "   - Quarterly observations\n",
        "\n",
        "6. GDP Growth Rate Data (CSV)\n",
        "   - Quarterly growth rate data\n",
        "\n",
        "### Output Format\n",
        "- Single CSV file containing all integrated indicators\n",
        "- Date index in YYYYMM format\n",
        "- All numeric columns standardized\n",
        "- Monthly frequency (1994-2023)\n",
        "\n",
        "### Dependencies\n",
        "```python\n",
        "# Core data processing\n",
        "import pandas as pd\n",
        "import numpy as np\n",
        "\n",
        "# File handling\n",
        "import chardet  # For encoding detection\n",
        "\n",
        "# Optional (for Google Colab)\n",
        "from google.colab import drive\n",
        "from google.colab import files\n",
        "```\n",
        "\n",
        "## Code Organization\n",
        "1. Initial Setup\n",
        "2. File Reading and Encoding Detection\n",
        "3. Date Standardization\n",
        "4. Data Integration\n",
        "5. Export Process"
      ],
      "metadata": {
        "id": "Y44I6AJHebVT"
      }
    },
    {
      "cell_type": "markdown",
      "source": [
        "## 1. Initial Setup and Dependencies\n",
        "Import required libraries and set up the environment"
      ],
      "metadata": {
        "id": "dou44YQzetib"
      }
    },
    {
      "cell_type": "code",
      "execution_count": null,
      "metadata": {
        "colab": {
          "base_uri": "https://localhost:8080/"
        },
        "id": "FYfyNNsDCME_",
        "outputId": "45e19183-630a-48cc-840c-fb2c5fea7e25"
      },
      "outputs": [
        {
          "output_type": "stream",
          "name": "stdout",
          "text": [
            "Mounted at /content/drive\n"
          ]
        }
      ],
      "source": [
        "# Core dependencies\n",
        "import pandas as pd\n",
        "import numpy as np\n",
        "import chardet\n",
        "\n",
        "# Optional - for Google Colab\n",
        "from google.colab import drive\n",
        "from google.colab import files\n",
        "\n",
        "# Mount Google Drive (if using Colab)\n",
        "drive.mount('/content/drive')"
      ]
    },
    {
      "cell_type": "markdown",
      "source": [
        "## 2. Data Loading and Encoding Detection\n",
        "Load each data source with appropriate encoding detection"
      ],
      "metadata": {
        "id": "LfUKLQtsfRq9"
      }
    },
    {
      "cell_type": "code",
      "source": [
        "# Define file paths (update these to your local paths)\n",
        "企業物価指数_file_path = \"/content/drive/Shareddrives/125-2日本ハム-業務委託共有/販売単価分析/NME R031.2814 Apr 26.csv\"\n",
        "賃金_file_path = \"/content/drive/Shareddrives/125-2日本ハム-業務委託共有/販売単価分析/TimeSeriesResult.csv\"\n",
        "金利_file_path = \"/content/drive/Shareddrives/125-2日本ハム-業務委託共有/販売単価分析/Main Time Series Data.csv\"\n",
        "gdp_file_path = \"/content/drive/Shareddrives/125-2日本ハム-業務委託共有/販売単価分析/JPNRGDPEXP.csv\"\n",
        "gdp_growth_file_path = \"/content/drive/Shareddrives/125-2日本ハム-業務委託共有/販売単価分析/ritu-jk2342.csv\"\n",
        "\n",
        "with open(金利_file_path, 'rb') as file:\n",
        "    金利_encoding = chardet.detect(file.read())['encoding']\n",
        "    print(f\"Detected encoding for 金利_file_path: {金利_encoding}\")\n",
        "\n",
        "with open(gdp_file_path, 'rb') as file:\n",
        "    gdp_encoding = chardet.detect(file.read())['encoding']\n",
        "    print(f\"Detected encoding for gdp_file_path: {gdp_encoding}\")\n",
        "\n",
        "with open(gdp_growth_file_path, 'rb') as file:\n",
        "    gdp_growth_encoding = chardet.detect(file.read())['encoding']\n",
        "    print(f\"Detected encoding for gdp_growth_file_path: {gdp_growth_encoding}\")\n",
        "\n",
        "# Read data files with appropriate encodings\n",
        "企業物価指数_df = pd.read_csv(企業物価指数_file_path, encoding='shift_jis', skiprows=1)\n",
        "賃金_df = pd.read_csv(賃金_file_path, encoding='utf-8-sig')\n",
        "金利_df = pd.read_csv(金利_file_path, encoding=金利_encoding, skiprows=9, header=None, sep=',')\n",
        "gdp_df = pd.read_csv(gdp_file_path, encoding=gdp_encoding)\n",
        "gdp_growth_df = pd.read_csv(gdp_growth_file_path, encoding=gdp_growth_encoding, skiprows=5, header=0)"
      ],
      "metadata": {
        "colab": {
          "base_uri": "https://localhost:8080/"
        },
        "id": "QmMMwt86H1Kr",
        "outputId": "52f5eed3-8342-4587-d768-1e1e4e8234b5"
      },
      "execution_count": null,
      "outputs": [
        {
          "output_type": "stream",
          "name": "stdout",
          "text": [
            "Detected encoding for 金利_file_path: SHIFT_JIS\n",
            "Detected encoding for gdp_file_path: ascii\n",
            "Detected encoding for gdp_growth_file_path: SHIFT_JIS\n"
          ]
        }
      ]
    },
    {
      "cell_type": "markdown",
      "source": [
        "## 3. Date Standardization\n",
        "\n",
        "Each dataset has unique date formatting that needs to be standardized to YYYYMM format."
      ],
      "metadata": {
        "id": "Hxlm7TqAgOag"
      }
    },
    {
      "cell_type": "markdown",
      "source": [
        "### 3.1 Basic Date Conversions\n",
        "\n",
        "Simple date format standardization for straightforward datasets:"
      ],
      "metadata": {
        "id": "GRlZVTXSii0m"
      }
    },
    {
      "cell_type": "code",
      "source": [
        "# Convert the first column of 企業物価指数_df\n",
        "企業物価指数_df['系列名称'] = pd.to_datetime(企業物価指数_df['系列名称'], format='%Y/%m').dt.strftime('%Y%m')\n",
        "企業物価指数_df.rename(columns={'系列名称': '年月'}, inplace=True)\n",
        "企業物価指数_df.set_index('年月', inplace=True)\n",
        "\n",
        "# Standardize dates for Wage Data\n",
        "\n",
        "# Convert the first column of 賃金_df\n",
        "賃金_df['時点'] = pd.to_datetime(賃金_df['時点'], format='%Y年%m月').dt.strftime('%Y%m')\n",
        "賃金_df.rename(columns={'時点': '年月'}, inplace=True)\n",
        "賃金_df.set_index('年月', inplace=True)\n",
        "\n",
        "# Convert the first column of 金利_df\n",
        "金利_df[0] = pd.to_datetime(金利_df[0], format='%Y/%m').dt.strftime('%Y%m')\n",
        "金利_df.rename(columns={0: '年月'}, inplace=True)\n",
        "金利_df.set_index('年月', inplace=True)\n",
        "金利_df = 金利_df.rename(columns={金利_df.columns[0]: \"金利（日本）\"})\n",
        "\n",
        "\n",
        "# Convert the first column of gdp_df\n",
        "gdp_df['DATE'] = pd.to_datetime(gdp_df['DATE']).dt.strftime('%Y%m')\n",
        "gdp_df.rename(columns={'DATE': '年月'}, inplace=True)\n",
        "gdp_df.set_index('年月', inplace=True)\n",
        "\n",
        "new_cols = []\n",
        "for col_name in gdp_growth_df.columns:\n",
        "    if pd.notna(gdp_growth_df.loc[0, col_name]):\n",
        "        new_cols.append(str(gdp_growth_df.loc[0, col_name]))\n",
        "    else:\n",
        "        new_cols.append(col_name)\n",
        "\n",
        "gdp_growth_df.columns = new_cols\n",
        "gdp_growth_df = gdp_growth_df.drop(index=0)"
      ],
      "metadata": {
        "id": "qx3Z_1BcgMuE"
      },
      "execution_count": null,
      "outputs": []
    },
    {
      "cell_type": "markdown",
      "source": [
        "### 3.2 Complex Date Processing\n",
        "\n",
        "GDP Growth data requires more complex processing:"
      ],
      "metadata": {
        "id": "EoGZoyqbiaHd"
      }
    },
    {
      "cell_type": "code",
      "source": [
        "# Extract the first column\n",
        "column_data = gdp_growth_df.iloc[:, 0]\n",
        "# Remove the leading spaces and trailing periods\n",
        "column_data = column_data.str.strip().str.rstrip('.')\n",
        "\n",
        "# Split the string into year and month components\n",
        "year_month = column_data.str.split('/', expand=True)\n",
        "# Combine the year and month components and convert to datetime\n",
        "year_month[1] = year_month[1].str.split('-', expand=True)[0].str.strip()\n",
        "dates = pd.to_datetime(year_month[0] + ' ' + year_month[1], format='%Y %m', errors='coerce')\n",
        "# Format the dates as 'yyyymm'\n",
        "formatted_dates = dates.dt.strftime('%Y%m')\n",
        "\n",
        "# Assign the formatted dates back to the first column\n",
        "gdp_growth_df.iloc[:, 0] = formatted_dates\n",
        "# Set the first column as the index\n",
        "gdp_growth_df.set_index(gdp_growth_df.columns[0], inplace=True)\n",
        "# Set the index name to \"年月\"\n",
        "gdp_growth_df.index.name = \"年月\"\n",
        "\n",
        "gdp_growth_df = gdp_growth_df.iloc[:-3]\n",
        "\n",
        "start_year = 1994\n",
        "start_month = 3\n",
        "end_year = 2023\n",
        "end_month = 12\n",
        "\n",
        "gdp_growth_index = []\n",
        "year = start_year\n",
        "month = start_month\n",
        "while year < end_year or (year == end_year and month <= end_month):\n",
        "    gdp_growth_index.append(year * 100 + month)\n",
        "    month += 3\n",
        "    if month > 12:\n",
        "        month = month % 12\n",
        "        year += 1\n",
        "\n",
        "gdp_growth_df.index = gdp_growth_index\n",
        "\n",
        "# Drop all unnamed empty columns\n",
        "gdp_growth_df = gdp_growth_df.loc[:, ~gdp_growth_df.columns.str.contains('^Unnamed')]\n",
        "\n",
        "# Convert columns to numeric type\n",
        "for col in gdp_growth_df.columns:\n",
        "    gdp_growth_df[col] = pd.to_numeric(gdp_growth_df[col], errors='coerce')\n",
        "\n",
        "# Read 消費者物価指数（CPI）: 消費者が購入する商品とサービスの価格変動 data\n",
        "cpi_data = pd.read_excel(\"/content/drive/Shareddrives/125-2日本ハム-業務委託共有/販売単価分析/bm01-1.xlsx\", skiprows=13)\n",
        "cpi_data = cpi_data.iloc[:, 8:]\n",
        "\n",
        "cpi_column_names = pd.read_excel(\"/content/drive/Shareddrives/125-2日本ハム-業務委託共有/販売単価分析/bm01-1.xlsx\", skiprows=8, nrows=10)\n",
        "cpi_column_names = cpi_column_names.iloc[:, 8:]\n",
        "\n",
        "# Get the original column names from cpi_column_names\n",
        "original_columns = cpi_column_names.columns.tolist()\n",
        "\n",
        "# Create a list to store the new column names\n",
        "new_columns = []\n",
        "\n",
        "# Iterate over the columns starting from the fifth column\n",
        "for col in original_columns[4:]:\n",
        "    # Get the unique values from the first 5 rows of the current column\n",
        "    unique_values = cpi_column_names[col].unique()\n",
        "    # Filter out NaN values\n",
        "    unique_values = [str(val) for val in unique_values if not pd.isnull(val)]\n",
        "    # Join the unique values with underscores to create the new column name\n",
        "    new_col_name = '_'.join(unique_values)\n",
        "    # Append the new column name to the list\n",
        "    new_columns.append(new_col_name)\n",
        "\n",
        "# Combine the first three column names from cpi_data with the new column names\n",
        "final_columns = cpi_data.columns[:4].tolist() + new_columns\n",
        "\n",
        "# Assign the final_columns to the cpi_data DataFrame\n",
        "cpi_data.columns = final_columns\n",
        "\n",
        "# Extract the year and month from the first column\n",
        "extracted_data = cpi_data.iloc[:, 0].str.extract(r'(\\d{4})年(\\d{1,2})月')\n",
        "\n",
        "# Combine the year and month columns into the desired format\n",
        "cpi_data['年月'] = extracted_data.apply(lambda x: f\"{x[0]}{x[1]:0>2}\", axis=1)\n",
        "\n",
        "# Set the formatted column as the index\n",
        "cpi_data.set_index('年月', inplace=True)\n",
        "\n",
        "\n",
        "# Create a datetime index in the format yyyymm from 199401 to 202312\n",
        "start_date = '1994-01-01'\n",
        "end_date = '2023-12-31'\n",
        "freq = 'MS'  # Monthly frequency, start of each month"
      ],
      "metadata": {
        "id": "bnxSQmgziYzT"
      },
      "execution_count": null,
      "outputs": []
    },
    {
      "cell_type": "markdown",
      "source": [
        "### 3.3 Date Index Generation\n",
        "\n",
        "Create consistent monthly date range for all data:"
      ],
      "metadata": {
        "id": "VngrQaRoiDin"
      }
    },
    {
      "cell_type": "code",
      "source": [
        "# Generate the datetime index\n",
        "datetime_index = pd.date_range(start=start_date, end=end_date, freq=freq)\n",
        "\n",
        "# Format the datetime index as yyyymm\n",
        "yyyymm_index = datetime_index.strftime('%Y%m')\n",
        "\n",
        "# Get the original index\n",
        "original_index = gdp_growth_df.index\n",
        "\n",
        "# Create a new index by repeating each index label 3 times\n",
        "new_index = np.repeat(original_index, 3)\n",
        "\n",
        "# Reindex the DataFrame with the new index\n",
        "gdp_growth_df = gdp_growth_df.loc[new_index]\n",
        "\n",
        "# Reset the index (optional)\n",
        "gdp_growth_df = gdp_growth_df.reset_index(drop=True)\n",
        "\n",
        "gdp_growth_df.head(15)\n",
        "\n",
        "gdp_growth_df.index = yyyymm_index\n",
        "\n",
        "gdp_growth_df.index.name = '年月'"
      ],
      "metadata": {
        "id": "EJHqVBlZiCwt"
      },
      "execution_count": null,
      "outputs": []
    },
    {
      "cell_type": "markdown",
      "source": [
        "## 4. Data Integration\n",
        "Merge all datasets and standardize data types"
      ],
      "metadata": {
        "id": "JPlJbFfLglQe"
      }
    },
    {
      "cell_type": "code",
      "source": [
        "# Merge all dataframes\n",
        "merged_df = pd.concat([企業物価指数_df, 賃金_df, cpi_data, 金利_df, gdp_df, gdp_growth_df], axis=1)\n",
        "\n",
        "# Sort by date index\n",
        "merged_df = merged_df.sort_index(ascending=True)\n",
        "\n",
        "# Clean up - drop non-numeric columns\n",
        "merged_df.drop(columns=['地域'], inplace=True)\n",
        "\n",
        "# Convert all columns to numeric\n",
        "\n",
        "# Identify columns of type 'object'\n",
        "object_cols = merged_df.select_dtypes(include=['object']).columns\n",
        "\n",
        "# Convert object columns to float, coercing errors to NaN\n",
        "for col in object_cols:\n",
        "    merged_df[col] = pd.to_numeric(merged_df[col], errors='coerce')"
      ],
      "metadata": {
        "id": "wARnYtTkgkTN"
      },
      "execution_count": null,
      "outputs": []
    },
    {
      "cell_type": "code",
      "source": [
        "# 企業物価指数_df, 賃金_df, cpi_data, 金利_df, gdp_df, gdp_growth_df\n",
        "for col in gdp_growth_df.columns:\n",
        "  print(col)"
      ],
      "metadata": {
        "id": "0FG3l-3rmMra",
        "colab": {
          "base_uri": "https://localhost:8080/"
        },
        "outputId": "5cb3e7a7-8e58-4e65-acd1-54c1744ce59b"
      },
      "execution_count": null,
      "outputs": [
        {
          "output_type": "stream",
          "name": "stdout",
          "text": [
            "GDP(Expenditure Approach)\n",
            "PrivateConsumption\n",
            "Consumption ofHouseholds\n",
            "ExcludingImputed Rent\n",
            "PrivateResidentialInvestment\n",
            "Private Non-Resi.Investment\n",
            "Changein PrivateInventories\n",
            "GovernmentConsumption\n",
            "PublicInvestment\n",
            "Changein PublicInventories\n",
            "Net Exports\n",
            "Exports\n",
            "Imports\n",
            "TradingGains/Losses\n",
            "GDI\n",
            "Net\n",
            "Receipt\n",
            "Payment\n",
            "GNI\n",
            "DomesticDemand\n",
            "PrivateDemand\n",
            "PublicDemand\n",
            "Gross Fixed CapitalFormation\n",
            "Final Sales of Domestic Product\n"
          ]
        }
      ]
    },
    {
      "cell_type": "markdown",
      "source": [
        "## 5. Export Process\n",
        "Save the final dataset"
      ],
      "metadata": {
        "id": "6H4f-zMJg_5e"
      }
    },
    {
      "cell_type": "code",
      "source": [
        "# Define the CSV filename\n",
        "csv_filename = '販売単価分析.csv'\n",
        "\n",
        "# Convert the DataFrame to a CSV file\n",
        "merged_df.to_csv(csv_filename, index=True)\n",
        "\n",
        "# Use the Colab file download utility to download the CSV file to your local system\n",
        "files.download(csv_filename)"
      ],
      "metadata": {
        "colab": {
          "base_uri": "https://localhost:8080/",
          "height": 17
        },
        "id": "dMH8IXUzweSl",
        "outputId": "01f51259-0daa-4be3-a5bc-371f33e7f7c4"
      },
      "execution_count": null,
      "outputs": [
        {
          "output_type": "display_data",
          "data": {
            "text/plain": [
              "<IPython.core.display.Javascript object>"
            ],
            "application/javascript": [
              "\n",
              "    async function download(id, filename, size) {\n",
              "      if (!google.colab.kernel.accessAllowed) {\n",
              "        return;\n",
              "      }\n",
              "      const div = document.createElement('div');\n",
              "      const label = document.createElement('label');\n",
              "      label.textContent = `Downloading \"${filename}\": `;\n",
              "      div.appendChild(label);\n",
              "      const progress = document.createElement('progress');\n",
              "      progress.max = size;\n",
              "      div.appendChild(progress);\n",
              "      document.body.appendChild(div);\n",
              "\n",
              "      const buffers = [];\n",
              "      let downloaded = 0;\n",
              "\n",
              "      const channel = await google.colab.kernel.comms.open(id);\n",
              "      // Send a message to notify the kernel that we're ready.\n",
              "      channel.send({})\n",
              "\n",
              "      for await (const message of channel.messages) {\n",
              "        // Send a message to notify the kernel that we're ready.\n",
              "        channel.send({})\n",
              "        if (message.buffers) {\n",
              "          for (const buffer of message.buffers) {\n",
              "            buffers.push(buffer);\n",
              "            downloaded += buffer.byteLength;\n",
              "            progress.value = downloaded;\n",
              "          }\n",
              "        }\n",
              "      }\n",
              "      const blob = new Blob(buffers, {type: 'application/binary'});\n",
              "      const a = document.createElement('a');\n",
              "      a.href = window.URL.createObjectURL(blob);\n",
              "      a.download = filename;\n",
              "      div.appendChild(a);\n",
              "      a.click();\n",
              "      div.remove();\n",
              "    }\n",
              "  "
            ]
          },
          "metadata": {}
        },
        {
          "output_type": "display_data",
          "data": {
            "text/plain": [
              "<IPython.core.display.Javascript object>"
            ],
            "application/javascript": [
              "download(\"download_29339282-8692-4fe6-b95f-c919e67d4981\", \"\\u8ca9\\u58f2\\u5358\\u4fa1\\u5206\\u6790.csv\", 326428)"
            ]
          },
          "metadata": {}
        }
      ]
    }
  ]
}